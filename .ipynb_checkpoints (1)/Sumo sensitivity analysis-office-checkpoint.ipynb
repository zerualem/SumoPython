{
 "cells": [
  {
   "cell_type": "markdown",
   "metadata": {},
   "source": [
    "## Sensitivity Analysis for Sumo model\n",
    "### Steps followed\n",
    "1. Import the necessary libraries to the notebook\n",
    "2. Initialize and load the Sumo model by providing the path and license file\n",
    "3. Define and setup the input factors\n",
    "4. Conduct the sensitivity analysis\n",
    "5. Post processing and screening of influential factors"
   ]
  },
  {
   "cell_type": "markdown",
   "metadata": {},
   "source": [
    "### Import libraries"
   ]
  },
  {
   "cell_type": "code",
   "execution_count": 3,
   "metadata": {
    "collapsed": true
   },
   "outputs": [],
   "source": [
    "from dynamita.sumo import *\n",
    "import numpy as np\n",
    "import time\n",
    "import matplotlib.pyplot as plt\n",
    "import pandas as pd\n",
    "from scipy.stats import stats   "
   ]
  },
  {
   "cell_type": "code",
   "execution_count": 6,
   "metadata": {
    "collapsed": true,
    "scrolled": true
   },
   "outputs": [],
   "source": [
    "from SALib.sample import morris\n",
    "from SALib.analyze import morris as mr\n",
    "import random"
   ]
  },
  {
   "cell_type": "code",
   "execution_count": 21,
   "metadata": {
    "collapsed": true
   },
   "outputs": [],
   "source": [
    "import seaborn as sns"
   ]
  },
  {
   "cell_type": "code",
   "execution_count": 7,
   "metadata": {
    "collapsed": true
   },
   "outputs": [],
   "source": [
    "%matplotlib inline"
   ]
  },
  {
   "cell_type": "markdown",
   "metadata": {},
   "source": [
    "### Initialize and load the Sumo model"
   ]
  },
  {
   "cell_type": "code",
   "execution_count": 8,
   "metadata": {
    "scrolled": true
   },
   "outputs": [
    {
     "name": "stdout",
     "output_type": "stream",
     "text": [
      "License OK...\n"
     ]
    }
   ],
   "source": [
    "sumo = Sumo(sumoPath=\"C:/Users/zerualem/AppData/Local/Dynamita/Sumo16\", licenseFile=r\"networklicense.sumolic\")"
   ]
  },
  {
   "cell_type": "code",
   "execution_count": 9,
   "metadata": {
    "collapsed": true
   },
   "outputs": [],
   "source": [
    "def datacomm_callback(sumo):\n",
    "    t.append(sumo.core.csumo_var_get_time_double(sumo.handle))\n",
    "    #snhx.append(sumo.core.csumo_var_get_pvtarray_pos(sumo.handle, snhx_pos, 0))\n",
    "    for i in range(6):\n",
    "        snhx[i].append(sumo.core.csumo_var_get_pvtarray_pos(sumo.handle, snhx_pos, i))\n",
    "        sno2[i].append(sumo.core.csumo_var_get_pvtarray_pos(sumo.handle, sno2_pos, i))\n",
    "        sno3[i].append(sumo.core.csumo_var_get_pvtarray_pos(sumo.handle, sno3_pos, i))\n",
    "    return 0"
   ]
  },
  {
   "cell_type": "code",
   "execution_count": 10,
   "metadata": {},
   "outputs": [
    {
     "name": "stdout",
     "output_type": "stream",
     "text": [
      "No model is loaded\n",
      "Model successfuly loaded!\n"
     ]
    }
   ],
   "source": [
    "sumo.unload_model()\n",
    "if not sumo.load_model('myGSBR.sumo'):\n",
    "    print ('Model successfuly loaded!')"
   ]
  },
  {
   "cell_type": "code",
   "execution_count": 11,
   "metadata": {
    "collapsed": true
   },
   "outputs": [],
   "source": [
    "sumo.register_datacomm_callback(datacomm_callback)"
   ]
  },
  {
   "cell_type": "code",
   "execution_count": 12,
   "metadata": {
    "scrolled": true
   },
   "outputs": [
    {
     "name": "stdout",
     "output_type": "stream",
     "text": [
      "86\n",
      "87\n",
      "88\n"
     ]
    }
   ],
   "source": [
    "snhx_pos = sumo.core.csumo_model_get_variable_info_pos(sumo.handle, b'Sumo__Plant__GranularSBR__SNHx')\n",
    "sno2_pos = sumo.core.csumo_model_get_variable_info_pos(sumo.handle, b'Sumo__Plant__GranularSBR__SNO2')\n",
    "sno3_pos = sumo.core.csumo_model_get_variable_info_pos(sumo.handle, b'Sumo__Plant__GranularSBR__SNO3')\n",
    "sumo.core.csumo_command_send(sumo.handle, b'execute script_Initialize.scs;')\n",
    "print(snhx_pos)\n",
    "print(sno2_pos)\n",
    "print(sno3_pos)"
   ]
  },
  {
   "cell_type": "markdown",
   "metadata": {},
   "source": [
    "### Test run the Sumo model"
   ]
  },
  {
   "cell_type": "code",
   "execution_count": 13,
   "metadata": {
    "scrolled": false
   },
   "outputs": [
    {
     "name": "stdout",
     "output_type": "stream",
     "text": [
      "Wall time: 11.7 s\n"
     ]
    }
   ],
   "source": [
    "%%time \n",
    "stop_t=6*3600*1000\n",
    "dataComm = 180000\n",
    "sumo.set_stopTime(stop_t)\n",
    "sumo.set_dataComm(dataComm)\n",
    "t = []\n",
    "snhx=[[] for i in range(6)]\n",
    "sno2=[[] for i in range(6)]\n",
    "sno3=[[] for i in range(6)]\n",
    "\n",
    "sumo.run_model()\n",
    "\n",
    "while not sumo.simulation_finished:\n",
    "        time.sleep(0.01)"
   ]
  },
  {
   "cell_type": "code",
   "execution_count": 14,
   "metadata": {
    "scrolled": false
   },
   "outputs": [
    {
     "name": "stdout",
     "output_type": "stream",
     "text": [
      "121\n"
     ]
    },
    {
     "data": {
      "text/plain": [
       "120.0"
      ]
     },
     "execution_count": 14,
     "metadata": {},
     "output_type": "execute_result"
    }
   ],
   "source": [
    "print(len(t))\n",
    "stop_t/dataComm"
   ]
  },
  {
   "cell_type": "code",
   "execution_count": 15,
   "metadata": {},
   "outputs": [
    {
     "data": {
      "text/plain": [
       "[<matplotlib.lines.Line2D at 0xd521870>,\n",
       " <matplotlib.lines.Line2D at 0xd5219d0>,\n",
       " <matplotlib.lines.Line2D at 0xd521c90>]"
      ]
     },
     "execution_count": 15,
     "metadata": {},
     "output_type": "execute_result"
    },
    {
     "data": {
      "image/png": "[encoded data removed]",
      "text/plain": [
       "<matplotlib.figure.Figure at 0xd4c3210>"
      ]
     },
     "metadata": {},
     "output_type": "display_data"
    }
   ],
   "source": [
    "plt.plot(t,sno2[0],'b', t,sno3[0],'r', t,snhx[0], 'g')"
   ]
  },
  {
   "cell_type": "code",
   "execution_count": 16,
   "metadata": {
    "collapsed": true
   },
   "outputs": [],
   "source": [
    "titles=[\"Bulk\", \"Layer 1\", \"Layer 2\", \"Layer 3\", \"Layer 4\", \"Layer 5\"]\n",
    "data_dict = dict(zip(titles,snhx))\n",
    "dframe = pd.DataFrame(data_dict, index=t)"
   ]
  },
  {
   "cell_type": "code",
   "execution_count": 17,
   "metadata": {
    "scrolled": true
   },
   "outputs": [
    {
     "data": {
      "text/html": [
       "<div>\n",
       "<style>\n",
       "    .dataframe thead tr:only-child th {\n",
       "        text-align: right;\n",
       "    }\n",
       "\n",
       "    .dataframe thead th {\n",
       "        text-align: left;\n",
       "    }\n",
       "\n",
       "    .dataframe tbody tr th {\n",
       "        vertical-align: top;\n",
       "    }\n",
       "</style>\n",
       "<table border=\"1\" class=\"dataframe\">\n",
       "  <thead>\n",
       "    <tr style=\"text-align: right;\">\n",
       "      <th></th>\n",
       "      <th>Bulk</th>\n",
       "      <th>Layer 1</th>\n",
       "      <th>Layer 2</th>\n",
       "      <th>Layer 3</th>\n",
       "      <th>Layer 4</th>\n",
       "      <th>Layer 5</th>\n",
       "    </tr>\n",
       "  </thead>\n",
       "  <tbody>\n",
       "    <tr>\n",
       "      <th>0.000000</th>\n",
       "      <td>1.000018</td>\n",
       "      <td>0.999972</td>\n",
       "      <td>0.999971</td>\n",
       "      <td>0.999973</td>\n",
       "      <td>0.999973</td>\n",
       "      <td>0.999973</td>\n",
       "    </tr>\n",
       "    <tr>\n",
       "      <th>0.002083</th>\n",
       "      <td>3.303485</td>\n",
       "      <td>0.948835</td>\n",
       "      <td>0.272234</td>\n",
       "      <td>0.165576</td>\n",
       "      <td>0.154930</td>\n",
       "      <td>0.199417</td>\n",
       "    </tr>\n",
       "    <tr>\n",
       "      <th>0.004167</th>\n",
       "      <td>5.135889</td>\n",
       "      <td>3.232930</td>\n",
       "      <td>2.436598</td>\n",
       "      <td>1.859591</td>\n",
       "      <td>1.488552</td>\n",
       "      <td>1.346754</td>\n",
       "    </tr>\n",
       "    <tr>\n",
       "      <th>0.006250</th>\n",
       "      <td>6.891037</td>\n",
       "      <td>5.458508</td>\n",
       "      <td>4.757572</td>\n",
       "      <td>4.217570</td>\n",
       "      <td>3.911934</td>\n",
       "      <td>3.757507</td>\n",
       "    </tr>\n",
       "    <tr>\n",
       "      <th>0.008333</th>\n",
       "      <td>8.643941</td>\n",
       "      <td>7.682992</td>\n",
       "      <td>7.193852</td>\n",
       "      <td>6.770700</td>\n",
       "      <td>6.470104</td>\n",
       "      <td>6.315450</td>\n",
       "    </tr>\n",
       "    <tr>\n",
       "      <th>0.010417</th>\n",
       "      <td>10.313139</td>\n",
       "      <td>9.634402</td>\n",
       "      <td>9.252514</td>\n",
       "      <td>8.913415</td>\n",
       "      <td>8.668000</td>\n",
       "      <td>8.541012</td>\n",
       "    </tr>\n",
       "    <tr>\n",
       "      <th>0.012500</th>\n",
       "      <td>12.030246</td>\n",
       "      <td>11.542368</td>\n",
       "      <td>11.214335</td>\n",
       "      <td>10.920884</td>\n",
       "      <td>10.708602</td>\n",
       "      <td>10.599063</td>\n",
       "    </tr>\n",
       "    <tr>\n",
       "      <th>0.014583</th>\n",
       "      <td>13.362983</td>\n",
       "      <td>12.987096</td>\n",
       "      <td>12.692995</td>\n",
       "      <td>12.426746</td>\n",
       "      <td>12.233325</td>\n",
       "      <td>12.133441</td>\n",
       "    </tr>\n",
       "    <tr>\n",
       "      <th>0.016667</th>\n",
       "      <td>14.691616</td>\n",
       "      <td>14.401644</td>\n",
       "      <td>14.139786</td>\n",
       "      <td>13.899334</td>\n",
       "      <td>13.723693</td>\n",
       "      <td>13.632859</td>\n",
       "    </tr>\n",
       "    <tr>\n",
       "      <th>0.018750</th>\n",
       "      <td>15.952005</td>\n",
       "      <td>15.723460</td>\n",
       "      <td>15.490916</td>\n",
       "      <td>15.274098</td>\n",
       "      <td>15.114773</td>\n",
       "      <td>15.032257</td>\n",
       "    </tr>\n",
       "  </tbody>\n",
       "</table>\n",
       "</div>"
      ],
      "text/plain": [
       "               Bulk    Layer 1    Layer 2    Layer 3    Layer 4    Layer 5\n",
       "0.000000   1.000018   0.999972   0.999971   0.999973   0.999973   0.999973\n",
       "0.002083   3.303485   0.948835   0.272234   0.165576   0.154930   0.199417\n",
       "0.004167   5.135889   3.232930   2.436598   1.859591   1.488552   1.346754\n",
       "0.006250   6.891037   5.458508   4.757572   4.217570   3.911934   3.757507\n",
       "0.008333   8.643941   7.682992   7.193852   6.770700   6.470104   6.315450\n",
       "0.010417  10.313139   9.634402   9.252514   8.913415   8.668000   8.541012\n",
       "0.012500  12.030246  11.542368  11.214335  10.920884  10.708602  10.599063\n",
       "0.014583  13.362983  12.987096  12.692995  12.426746  12.233325  12.133441\n",
       "0.016667  14.691616  14.401644  14.139786  13.899334  13.723693  13.632859\n",
       "0.018750  15.952005  15.723460  15.490916  15.274098  15.114773  15.032257"
      ]
     },
     "execution_count": 17,
     "metadata": {},
     "output_type": "execute_result"
    }
   ],
   "source": [
    "dframe.head(10)"
   ]
  },
  {
   "cell_type": "code",
   "execution_count": null,
   "metadata": {
    "collapsed": true,
    "scrolled": true
   },
   "outputs": [],
   "source": [
    "dframe.plot()"
   ]
  },
  {
   "cell_type": "markdown",
   "metadata": {},
   "source": [
    "### Start setting up the sensitivity analysis\n",
    "#### Start with defining the input factors and their range\n",
    "21 input factors have been selected to conduct the sensitivity analysis."
   ]
  },
  {
   "cell_type": "code",
   "execution_count": 18,
   "metadata": {
    "scrolled": true
   },
   "outputs": [
    {
     "name": "stdout",
     "output_type": "stream",
     "text": [
      "Wall time: 13 ms\n"
     ]
    }
   ],
   "source": [
    "%%time\n",
    "# Start Sensitivity analysis\n",
    "# Define the model inputs\n",
    "problem = {\n",
    "    'num_vars': 23,\n",
    "    'names': ['KO2_AOB', 'KNHx_AOB', 'muAOB', 'bAOB', 'YAOB', 'KO2_NOB', 'KNO2_NOB', 'muNOB', 'bNOB', 'YNOB', 'KNHx_AMX', 'KNO2_AMX', 'muAMX', 'bAMX', 'YAMX_NO2', 'YAMX_NO3', 'KO2_OHO', 'KNO2_OHO','KNO3_OHO', 'muOHO', 'bOHO', 'YOHO_ox', 'YOHO_anox'],\n",
    "    'bounds': [[0.1, 3], [0.1, 5], [0.2, 2], [0.01, 0.5], [0.03, 0.3], [0.1, 6], [0.1, 8], [0.1, 5], [0.1, 5], [0.03, 0.3], [0.1, 3], [0.1, 2], [0.01, 0.5], [0.001, 0.05], [0.03, 0.3], [0.03, 0.3], [0.05, 0.5], [0.1, 1], [0.1, 1], [0.1, 8], [0.01, 0.5], [0.1, 0.99],[0.1, 0.99]]\n",
    "}\n",
    "\n",
    "# Generate samples\n",
    "param_values = morris.sample(problem, 30, num_levels=10, grid_jump=4) #optimal_trajectories= 60)\n",
    "\n",
    "# Si = morris.analyze(problem, X, Y, conf_level=0.95, print_to_console=True, num_levels=4, grid_jump=2)"
   ]
  },
  {
   "cell_type": "code",
   "execution_count": 19,
   "metadata": {},
   "outputs": [
    {
     "name": "stdout",
     "output_type": "stream",
     "text": [
      "(720, 23)\n"
     ]
    },
    {
     "data": {
      "text/html": [
       "<div>\n",
       "<style>\n",
       "    .dataframe thead tr:only-child th {\n",
       "        text-align: right;\n",
       "    }\n",
       "\n",
       "    .dataframe thead th {\n",
       "        text-align: left;\n",
       "    }\n",
       "\n",
       "    .dataframe tbody tr th {\n",
       "        vertical-align: top;\n",
       "    }\n",
       "</style>\n",
       "<table border=\"1\" class=\"dataframe\">\n",
       "  <thead>\n",
       "    <tr style=\"text-align: right;\">\n",
       "      <th></th>\n",
       "      <th>KO2_AOB</th>\n",
       "      <th>KNHx_AOB</th>\n",
       "      <th>muAOB</th>\n",
       "      <th>bAOB</th>\n",
       "      <th>YAOB</th>\n",
       "      <th>KO2_NOB</th>\n",
       "      <th>KNO2_NOB</th>\n",
       "      <th>muNOB</th>\n",
       "      <th>bNOB</th>\n",
       "      <th>YNOB</th>\n",
       "      <th>...</th>\n",
       "      <th>bAMX</th>\n",
       "      <th>YAMX_NO2</th>\n",
       "      <th>YAMX_NO3</th>\n",
       "      <th>KO2_OHO</th>\n",
       "      <th>KNO2_OHO</th>\n",
       "      <th>KNO3_OHO</th>\n",
       "      <th>muOHO</th>\n",
       "      <th>bOHO</th>\n",
       "      <th>YOHO_ox</th>\n",
       "      <th>YOHO_anox</th>\n",
       "    </tr>\n",
       "  </thead>\n",
       "  <tbody>\n",
       "    <tr>\n",
       "      <th>0</th>\n",
       "      <td>1.711111</td>\n",
       "      <td>2.822222</td>\n",
       "      <td>0.8</td>\n",
       "      <td>0.445556</td>\n",
       "      <td>0.27</td>\n",
       "      <td>0.755556</td>\n",
       "      <td>3.611111</td>\n",
       "      <td>1.188889</td>\n",
       "      <td>3.366667</td>\n",
       "      <td>0.18</td>\n",
       "      <td>...</td>\n",
       "      <td>0.033667</td>\n",
       "      <td>0.12</td>\n",
       "      <td>0.12</td>\n",
       "      <td>0.45</td>\n",
       "      <td>0.2</td>\n",
       "      <td>0.4</td>\n",
       "      <td>2.733333</td>\n",
       "      <td>0.445556</td>\n",
       "      <td>0.891111</td>\n",
       "      <td>0.792222</td>\n",
       "    </tr>\n",
       "    <tr>\n",
       "      <th>1</th>\n",
       "      <td>1.711111</td>\n",
       "      <td>2.822222</td>\n",
       "      <td>0.8</td>\n",
       "      <td>0.445556</td>\n",
       "      <td>0.27</td>\n",
       "      <td>0.755556</td>\n",
       "      <td>3.611111</td>\n",
       "      <td>1.188889</td>\n",
       "      <td>3.366667</td>\n",
       "      <td>0.06</td>\n",
       "      <td>...</td>\n",
       "      <td>0.033667</td>\n",
       "      <td>0.12</td>\n",
       "      <td>0.12</td>\n",
       "      <td>0.45</td>\n",
       "      <td>0.2</td>\n",
       "      <td>0.4</td>\n",
       "      <td>2.733333</td>\n",
       "      <td>0.445556</td>\n",
       "      <td>0.891111</td>\n",
       "      <td>0.792222</td>\n",
       "    </tr>\n",
       "    <tr>\n",
       "      <th>2</th>\n",
       "      <td>1.711111</td>\n",
       "      <td>2.822222</td>\n",
       "      <td>0.8</td>\n",
       "      <td>0.445556</td>\n",
       "      <td>0.27</td>\n",
       "      <td>0.755556</td>\n",
       "      <td>3.611111</td>\n",
       "      <td>1.188889</td>\n",
       "      <td>3.366667</td>\n",
       "      <td>0.06</td>\n",
       "      <td>...</td>\n",
       "      <td>0.033667</td>\n",
       "      <td>0.12</td>\n",
       "      <td>0.12</td>\n",
       "      <td>0.45</td>\n",
       "      <td>0.2</td>\n",
       "      <td>0.4</td>\n",
       "      <td>2.733333</td>\n",
       "      <td>0.445556</td>\n",
       "      <td>0.891111</td>\n",
       "      <td>0.792222</td>\n",
       "    </tr>\n",
       "    <tr>\n",
       "      <th>3</th>\n",
       "      <td>1.711111</td>\n",
       "      <td>2.822222</td>\n",
       "      <td>0.8</td>\n",
       "      <td>0.445556</td>\n",
       "      <td>0.27</td>\n",
       "      <td>0.755556</td>\n",
       "      <td>3.611111</td>\n",
       "      <td>1.188889</td>\n",
       "      <td>1.188889</td>\n",
       "      <td>0.06</td>\n",
       "      <td>...</td>\n",
       "      <td>0.033667</td>\n",
       "      <td>0.12</td>\n",
       "      <td>0.12</td>\n",
       "      <td>0.45</td>\n",
       "      <td>0.2</td>\n",
       "      <td>0.4</td>\n",
       "      <td>2.733333</td>\n",
       "      <td>0.445556</td>\n",
       "      <td>0.891111</td>\n",
       "      <td>0.792222</td>\n",
       "    </tr>\n",
       "    <tr>\n",
       "      <th>4</th>\n",
       "      <td>1.711111</td>\n",
       "      <td>2.822222</td>\n",
       "      <td>0.8</td>\n",
       "      <td>0.445556</td>\n",
       "      <td>0.27</td>\n",
       "      <td>0.755556</td>\n",
       "      <td>3.611111</td>\n",
       "      <td>1.188889</td>\n",
       "      <td>1.188889</td>\n",
       "      <td>0.06</td>\n",
       "      <td>...</td>\n",
       "      <td>0.033667</td>\n",
       "      <td>0.12</td>\n",
       "      <td>0.12</td>\n",
       "      <td>0.45</td>\n",
       "      <td>0.2</td>\n",
       "      <td>0.4</td>\n",
       "      <td>2.733333</td>\n",
       "      <td>0.445556</td>\n",
       "      <td>0.891111</td>\n",
       "      <td>0.396667</td>\n",
       "    </tr>\n",
       "    <tr>\n",
       "      <th>5</th>\n",
       "      <td>1.711111</td>\n",
       "      <td>2.822222</td>\n",
       "      <td>0.8</td>\n",
       "      <td>0.445556</td>\n",
       "      <td>0.27</td>\n",
       "      <td>0.755556</td>\n",
       "      <td>7.122222</td>\n",
       "      <td>1.188889</td>\n",
       "      <td>1.188889</td>\n",
       "      <td>0.06</td>\n",
       "      <td>...</td>\n",
       "      <td>0.033667</td>\n",
       "      <td>0.12</td>\n",
       "      <td>0.12</td>\n",
       "      <td>0.45</td>\n",
       "      <td>0.2</td>\n",
       "      <td>0.4</td>\n",
       "      <td>2.733333</td>\n",
       "      <td>0.445556</td>\n",
       "      <td>0.891111</td>\n",
       "      <td>0.396667</td>\n",
       "    </tr>\n",
       "    <tr>\n",
       "      <th>6</th>\n",
       "      <td>1.711111</td>\n",
       "      <td>2.822222</td>\n",
       "      <td>0.8</td>\n",
       "      <td>0.445556</td>\n",
       "      <td>0.27</td>\n",
       "      <td>0.755556</td>\n",
       "      <td>7.122222</td>\n",
       "      <td>1.188889</td>\n",
       "      <td>1.188889</td>\n",
       "      <td>0.06</td>\n",
       "      <td>...</td>\n",
       "      <td>0.033667</td>\n",
       "      <td>0.12</td>\n",
       "      <td>0.12</td>\n",
       "      <td>0.45</td>\n",
       "      <td>0.6</td>\n",
       "      <td>0.4</td>\n",
       "      <td>2.733333</td>\n",
       "      <td>0.445556</td>\n",
       "      <td>0.891111</td>\n",
       "      <td>0.396667</td>\n",
       "    </tr>\n",
       "    <tr>\n",
       "      <th>7</th>\n",
       "      <td>1.711111</td>\n",
       "      <td>2.822222</td>\n",
       "      <td>0.8</td>\n",
       "      <td>0.445556</td>\n",
       "      <td>0.27</td>\n",
       "      <td>0.755556</td>\n",
       "      <td>7.122222</td>\n",
       "      <td>3.366667</td>\n",
       "      <td>1.188889</td>\n",
       "      <td>0.06</td>\n",
       "      <td>...</td>\n",
       "      <td>0.033667</td>\n",
       "      <td>0.12</td>\n",
       "      <td>0.12</td>\n",
       "      <td>0.45</td>\n",
       "      <td>0.6</td>\n",
       "      <td>0.4</td>\n",
       "      <td>2.733333</td>\n",
       "      <td>0.445556</td>\n",
       "      <td>0.891111</td>\n",
       "      <td>0.396667</td>\n",
       "    </tr>\n",
       "    <tr>\n",
       "      <th>8</th>\n",
       "      <td>1.711111</td>\n",
       "      <td>2.822222</td>\n",
       "      <td>0.8</td>\n",
       "      <td>0.445556</td>\n",
       "      <td>0.27</td>\n",
       "      <td>0.755556</td>\n",
       "      <td>7.122222</td>\n",
       "      <td>3.366667</td>\n",
       "      <td>1.188889</td>\n",
       "      <td>0.06</td>\n",
       "      <td>...</td>\n",
       "      <td>0.033667</td>\n",
       "      <td>0.12</td>\n",
       "      <td>0.24</td>\n",
       "      <td>0.45</td>\n",
       "      <td>0.6</td>\n",
       "      <td>0.4</td>\n",
       "      <td>2.733333</td>\n",
       "      <td>0.445556</td>\n",
       "      <td>0.891111</td>\n",
       "      <td>0.396667</td>\n",
       "    </tr>\n",
       "    <tr>\n",
       "      <th>9</th>\n",
       "      <td>1.711111</td>\n",
       "      <td>2.822222</td>\n",
       "      <td>0.8</td>\n",
       "      <td>0.445556</td>\n",
       "      <td>0.27</td>\n",
       "      <td>0.755556</td>\n",
       "      <td>7.122222</td>\n",
       "      <td>3.366667</td>\n",
       "      <td>1.188889</td>\n",
       "      <td>0.06</td>\n",
       "      <td>...</td>\n",
       "      <td>0.033667</td>\n",
       "      <td>0.12</td>\n",
       "      <td>0.24</td>\n",
       "      <td>0.45</td>\n",
       "      <td>0.6</td>\n",
       "      <td>0.4</td>\n",
       "      <td>6.244444</td>\n",
       "      <td>0.445556</td>\n",
       "      <td>0.891111</td>\n",
       "      <td>0.396667</td>\n",
       "    </tr>\n",
       "    <tr>\n",
       "      <th>10</th>\n",
       "      <td>1.711111</td>\n",
       "      <td>2.822222</td>\n",
       "      <td>0.8</td>\n",
       "      <td>0.445556</td>\n",
       "      <td>0.27</td>\n",
       "      <td>3.377778</td>\n",
       "      <td>7.122222</td>\n",
       "      <td>3.366667</td>\n",
       "      <td>1.188889</td>\n",
       "      <td>0.06</td>\n",
       "      <td>...</td>\n",
       "      <td>0.033667</td>\n",
       "      <td>0.12</td>\n",
       "      <td>0.24</td>\n",
       "      <td>0.45</td>\n",
       "      <td>0.6</td>\n",
       "      <td>0.4</td>\n",
       "      <td>6.244444</td>\n",
       "      <td>0.445556</td>\n",
       "      <td>0.891111</td>\n",
       "      <td>0.396667</td>\n",
       "    </tr>\n",
       "    <tr>\n",
       "      <th>11</th>\n",
       "      <td>1.711111</td>\n",
       "      <td>2.822222</td>\n",
       "      <td>1.6</td>\n",
       "      <td>0.445556</td>\n",
       "      <td>0.27</td>\n",
       "      <td>3.377778</td>\n",
       "      <td>7.122222</td>\n",
       "      <td>3.366667</td>\n",
       "      <td>1.188889</td>\n",
       "      <td>0.06</td>\n",
       "      <td>...</td>\n",
       "      <td>0.033667</td>\n",
       "      <td>0.12</td>\n",
       "      <td>0.24</td>\n",
       "      <td>0.45</td>\n",
       "      <td>0.6</td>\n",
       "      <td>0.4</td>\n",
       "      <td>6.244444</td>\n",
       "      <td>0.445556</td>\n",
       "      <td>0.891111</td>\n",
       "      <td>0.396667</td>\n",
       "    </tr>\n",
       "    <tr>\n",
       "      <th>12</th>\n",
       "      <td>1.711111</td>\n",
       "      <td>2.822222</td>\n",
       "      <td>1.6</td>\n",
       "      <td>0.445556</td>\n",
       "      <td>0.15</td>\n",
       "      <td>3.377778</td>\n",
       "      <td>7.122222</td>\n",
       "      <td>3.366667</td>\n",
       "      <td>1.188889</td>\n",
       "      <td>0.06</td>\n",
       "      <td>...</td>\n",
       "      <td>0.033667</td>\n",
       "      <td>0.12</td>\n",
       "      <td>0.24</td>\n",
       "      <td>0.45</td>\n",
       "      <td>0.6</td>\n",
       "      <td>0.4</td>\n",
       "      <td>6.244444</td>\n",
       "      <td>0.445556</td>\n",
       "      <td>0.891111</td>\n",
       "      <td>0.396667</td>\n",
       "    </tr>\n",
       "    <tr>\n",
       "      <th>13</th>\n",
       "      <td>1.711111</td>\n",
       "      <td>2.822222</td>\n",
       "      <td>1.6</td>\n",
       "      <td>0.445556</td>\n",
       "      <td>0.15</td>\n",
       "      <td>3.377778</td>\n",
       "      <td>7.122222</td>\n",
       "      <td>3.366667</td>\n",
       "      <td>1.188889</td>\n",
       "      <td>0.06</td>\n",
       "      <td>...</td>\n",
       "      <td>0.033667</td>\n",
       "      <td>0.12</td>\n",
       "      <td>0.24</td>\n",
       "      <td>0.45</td>\n",
       "      <td>0.6</td>\n",
       "      <td>0.4</td>\n",
       "      <td>6.244444</td>\n",
       "      <td>0.445556</td>\n",
       "      <td>0.891111</td>\n",
       "      <td>0.396667</td>\n",
       "    </tr>\n",
       "    <tr>\n",
       "      <th>14</th>\n",
       "      <td>1.711111</td>\n",
       "      <td>2.822222</td>\n",
       "      <td>1.6</td>\n",
       "      <td>0.445556</td>\n",
       "      <td>0.15</td>\n",
       "      <td>3.377778</td>\n",
       "      <td>7.122222</td>\n",
       "      <td>3.366667</td>\n",
       "      <td>1.188889</td>\n",
       "      <td>0.06</td>\n",
       "      <td>...</td>\n",
       "      <td>0.033667</td>\n",
       "      <td>0.12</td>\n",
       "      <td>0.24</td>\n",
       "      <td>0.45</td>\n",
       "      <td>0.6</td>\n",
       "      <td>0.4</td>\n",
       "      <td>6.244444</td>\n",
       "      <td>0.227778</td>\n",
       "      <td>0.891111</td>\n",
       "      <td>0.396667</td>\n",
       "    </tr>\n",
       "    <tr>\n",
       "      <th>15</th>\n",
       "      <td>1.711111</td>\n",
       "      <td>2.822222</td>\n",
       "      <td>1.6</td>\n",
       "      <td>0.445556</td>\n",
       "      <td>0.15</td>\n",
       "      <td>3.377778</td>\n",
       "      <td>7.122222</td>\n",
       "      <td>3.366667</td>\n",
       "      <td>1.188889</td>\n",
       "      <td>0.06</td>\n",
       "      <td>...</td>\n",
       "      <td>0.033667</td>\n",
       "      <td>0.12</td>\n",
       "      <td>0.24</td>\n",
       "      <td>0.25</td>\n",
       "      <td>0.6</td>\n",
       "      <td>0.4</td>\n",
       "      <td>6.244444</td>\n",
       "      <td>0.227778</td>\n",
       "      <td>0.891111</td>\n",
       "      <td>0.396667</td>\n",
       "    </tr>\n",
       "    <tr>\n",
       "      <th>16</th>\n",
       "      <td>1.711111</td>\n",
       "      <td>2.822222</td>\n",
       "      <td>1.6</td>\n",
       "      <td>0.445556</td>\n",
       "      <td>0.15</td>\n",
       "      <td>3.377778</td>\n",
       "      <td>7.122222</td>\n",
       "      <td>3.366667</td>\n",
       "      <td>1.188889</td>\n",
       "      <td>0.06</td>\n",
       "      <td>...</td>\n",
       "      <td>0.033667</td>\n",
       "      <td>0.12</td>\n",
       "      <td>0.24</td>\n",
       "      <td>0.25</td>\n",
       "      <td>0.6</td>\n",
       "      <td>0.8</td>\n",
       "      <td>6.244444</td>\n",
       "      <td>0.227778</td>\n",
       "      <td>0.891111</td>\n",
       "      <td>0.396667</td>\n",
       "    </tr>\n",
       "    <tr>\n",
       "      <th>17</th>\n",
       "      <td>1.711111</td>\n",
       "      <td>2.822222</td>\n",
       "      <td>1.6</td>\n",
       "      <td>0.445556</td>\n",
       "      <td>0.15</td>\n",
       "      <td>3.377778</td>\n",
       "      <td>7.122222</td>\n",
       "      <td>3.366667</td>\n",
       "      <td>1.188889</td>\n",
       "      <td>0.06</td>\n",
       "      <td>...</td>\n",
       "      <td>0.033667</td>\n",
       "      <td>0.12</td>\n",
       "      <td>0.24</td>\n",
       "      <td>0.25</td>\n",
       "      <td>0.6</td>\n",
       "      <td>0.8</td>\n",
       "      <td>6.244444</td>\n",
       "      <td>0.227778</td>\n",
       "      <td>0.495556</td>\n",
       "      <td>0.396667</td>\n",
       "    </tr>\n",
       "    <tr>\n",
       "      <th>18</th>\n",
       "      <td>1.711111</td>\n",
       "      <td>2.822222</td>\n",
       "      <td>1.6</td>\n",
       "      <td>0.227778</td>\n",
       "      <td>0.15</td>\n",
       "      <td>3.377778</td>\n",
       "      <td>7.122222</td>\n",
       "      <td>3.366667</td>\n",
       "      <td>1.188889</td>\n",
       "      <td>0.06</td>\n",
       "      <td>...</td>\n",
       "      <td>0.033667</td>\n",
       "      <td>0.12</td>\n",
       "      <td>0.24</td>\n",
       "      <td>0.25</td>\n",
       "      <td>0.6</td>\n",
       "      <td>0.8</td>\n",
       "      <td>6.244444</td>\n",
       "      <td>0.227778</td>\n",
       "      <td>0.495556</td>\n",
       "      <td>0.396667</td>\n",
       "    </tr>\n",
       "    <tr>\n",
       "      <th>19</th>\n",
       "      <td>1.711111</td>\n",
       "      <td>2.822222</td>\n",
       "      <td>1.6</td>\n",
       "      <td>0.227778</td>\n",
       "      <td>0.15</td>\n",
       "      <td>3.377778</td>\n",
       "      <td>7.122222</td>\n",
       "      <td>3.366667</td>\n",
       "      <td>1.188889</td>\n",
       "      <td>0.06</td>\n",
       "      <td>...</td>\n",
       "      <td>0.011889</td>\n",
       "      <td>0.12</td>\n",
       "      <td>0.24</td>\n",
       "      <td>0.25</td>\n",
       "      <td>0.6</td>\n",
       "      <td>0.8</td>\n",
       "      <td>6.244444</td>\n",
       "      <td>0.227778</td>\n",
       "      <td>0.495556</td>\n",
       "      <td>0.396667</td>\n",
       "    </tr>\n",
       "  </tbody>\n",
       "</table>\n",
       "<p>20 rows × 23 columns</p>\n",
       "</div>"
      ],
      "text/plain": [
       "     KO2_AOB  KNHx_AOB  muAOB      bAOB  YAOB   KO2_NOB  KNO2_NOB     muNOB  \\\n",
       "0   1.711111  2.822222    0.8  0.445556  0.27  0.755556  3.611111  1.188889   \n",
       "1   1.711111  2.822222    0.8  0.445556  0.27  0.755556  3.611111  1.188889   \n",
       "2   1.711111  2.822222    0.8  0.445556  0.27  0.755556  3.611111  1.188889   \n",
       "3   1.711111  2.822222    0.8  0.445556  0.27  0.755556  3.611111  1.188889   \n",
       "4   1.711111  2.822222    0.8  0.445556  0.27  0.755556  3.611111  1.188889   \n",
       "5   1.711111  2.822222    0.8  0.445556  0.27  0.755556  7.122222  1.188889   \n",
       "6   1.711111  2.822222    0.8  0.445556  0.27  0.755556  7.122222  1.188889   \n",
       "7   1.711111  2.822222    0.8  0.445556  0.27  0.755556  7.122222  3.366667   \n",
       "8   1.711111  2.822222    0.8  0.445556  0.27  0.755556  7.122222  3.366667   \n",
       "9   1.711111  2.822222    0.8  0.445556  0.27  0.755556  7.122222  3.366667   \n",
       "10  1.711111  2.822222    0.8  0.445556  0.27  3.377778  7.122222  3.366667   \n",
       "11  1.711111  2.822222    1.6  0.445556  0.27  3.377778  7.122222  3.366667   \n",
       "12  1.711111  2.822222    1.6  0.445556  0.15  3.377778  7.122222  3.366667   \n",
       "13  1.711111  2.822222    1.6  0.445556  0.15  3.377778  7.122222  3.366667   \n",
       "14  1.711111  2.822222    1.6  0.445556  0.15  3.377778  7.122222  3.366667   \n",
       "15  1.711111  2.822222    1.6  0.445556  0.15  3.377778  7.122222  3.366667   \n",
       "16  1.711111  2.822222    1.6  0.445556  0.15  3.377778  7.122222  3.366667   \n",
       "17  1.711111  2.822222    1.6  0.445556  0.15  3.377778  7.122222  3.366667   \n",
       "18  1.711111  2.822222    1.6  0.227778  0.15  3.377778  7.122222  3.366667   \n",
       "19  1.711111  2.822222    1.6  0.227778  0.15  3.377778  7.122222  3.366667   \n",
       "\n",
       "        bNOB  YNOB    ...          bAMX  YAMX_NO2  YAMX_NO3  KO2_OHO  \\\n",
       "0   3.366667  0.18    ...      0.033667      0.12      0.12     0.45   \n",
       "1   3.366667  0.06    ...      0.033667      0.12      0.12     0.45   \n",
       "2   3.366667  0.06    ...      0.033667      0.12      0.12     0.45   \n",
       "3   1.188889  0.06    ...      0.033667      0.12      0.12     0.45   \n",
       "4   1.188889  0.06    ...      0.033667      0.12      0.12     0.45   \n",
       "5   1.188889  0.06    ...      0.033667      0.12      0.12     0.45   \n",
       "6   1.188889  0.06    ...      0.033667      0.12      0.12     0.45   \n",
       "7   1.188889  0.06    ...      0.033667      0.12      0.12     0.45   \n",
       "8   1.188889  0.06    ...      0.033667      0.12      0.24     0.45   \n",
       "9   1.188889  0.06    ...      0.033667      0.12      0.24     0.45   \n",
       "10  1.188889  0.06    ...      0.033667      0.12      0.24     0.45   \n",
       "11  1.188889  0.06    ...      0.033667      0.12      0.24     0.45   \n",
       "12  1.188889  0.06    ...      0.033667      0.12      0.24     0.45   \n",
       "13  1.188889  0.06    ...      0.033667      0.12      0.24     0.45   \n",
       "14  1.188889  0.06    ...      0.033667      0.12      0.24     0.45   \n",
       "15  1.188889  0.06    ...      0.033667      0.12      0.24     0.25   \n",
       "16  1.188889  0.06    ...      0.033667      0.12      0.24     0.25   \n",
       "17  1.188889  0.06    ...      0.033667      0.12      0.24     0.25   \n",
       "18  1.188889  0.06    ...      0.033667      0.12      0.24     0.25   \n",
       "19  1.188889  0.06    ...      0.011889      0.12      0.24     0.25   \n",
       "\n",
       "    KNO2_OHO  KNO3_OHO     muOHO      bOHO   YOHO_ox  YOHO_anox  \n",
       "0        0.2       0.4  2.733333  0.445556  0.891111   0.792222  \n",
       "1        0.2       0.4  2.733333  0.445556  0.891111   0.792222  \n",
       "2        0.2       0.4  2.733333  0.445556  0.891111   0.792222  \n",
       "3        0.2       0.4  2.733333  0.445556  0.891111   0.792222  \n",
       "4        0.2       0.4  2.733333  0.445556  0.891111   0.396667  \n",
       "5        0.2       0.4  2.733333  0.445556  0.891111   0.396667  \n",
       "6        0.6       0.4  2.733333  0.445556  0.891111   0.396667  \n",
       "7        0.6       0.4  2.733333  0.445556  0.891111   0.396667  \n",
       "8        0.6       0.4  2.733333  0.445556  0.891111   0.396667  \n",
       "9        0.6       0.4  6.244444  0.445556  0.891111   0.396667  \n",
       "10       0.6       0.4  6.244444  0.445556  0.891111   0.396667  \n",
       "11       0.6       0.4  6.244444  0.445556  0.891111   0.396667  \n",
       "12       0.6       0.4  6.244444  0.445556  0.891111   0.396667  \n",
       "13       0.6       0.4  6.244444  0.445556  0.891111   0.396667  \n",
       "14       0.6       0.4  6.244444  0.227778  0.891111   0.396667  \n",
       "15       0.6       0.4  6.244444  0.227778  0.891111   0.396667  \n",
       "16       0.6       0.8  6.244444  0.227778  0.891111   0.396667  \n",
       "17       0.6       0.8  6.244444  0.227778  0.495556   0.396667  \n",
       "18       0.6       0.8  6.244444  0.227778  0.495556   0.396667  \n",
       "19       0.6       0.8  6.244444  0.227778  0.495556   0.396667  \n",
       "\n",
       "[20 rows x 23 columns]"
      ]
     },
     "execution_count": 19,
     "metadata": {},
     "output_type": "execute_result"
    }
   ],
   "source": [
    "print(param_values.shape)\n",
    "params_df=pd.DataFrame(param_values, columns=problem['names'])\n",
    "params_df.head(20)"
   ]
  },
  {
   "cell_type": "markdown",
   "metadata": {},
   "source": [
    "### Plot the sample parameters \n",
    "The generated samples of the 21 input factors histogram is ploted below. This will help us to visualize how well the samples have been selected from the input space. We should expect approximately a uniform distribution otherwise we have to  re-generate the samples above until we are satisfied."
   ]
  },
  {
   "cell_type": "code",
   "execution_count": null,
   "metadata": {
    "scrolled": false
   },
   "outputs": [
    {
     "name": "stdout",
     "output_type": "stream",
     "text": [
      "Wall time: 13.7 s\n"
     ]
    }
   ],
   "source": [
    "%%time\n",
    "#selected_p=random.sample(param_values[:, 0].tolist(),3)\n",
    "plt.figure(figsize=(16, 32))\n",
    "cc=('C0','C1','C2','C3','C4','C5','C6','C7','C8','C9','C0','C1','C2','C3','C4','C5','C6','C7','C8','C9','C0', 'C1','C2')\n",
    "for i in range(23):\n",
    "    plt.subplot(8,3,i+1)\n",
    "    plt.hist(param_values[:,i], histtype='stepfilled', alpha=0.5, color=cc[i] , bins=10)\n",
    "    plt.title(problem['names'][i])\n",
    "    sns.rugplot(param_values[:,i],lw=2, color='b')"
   ]
  },
  {
   "cell_type": "code",
   "execution_count": null,
   "metadata": {},
   "outputs": [],
   "source": [
    "sns.pairplot(params_df[0:3])"
   ]
  },
  {
   "cell_type": "code",
   "execution_count": null,
   "metadata": {
    "collapsed": true,
    "scrolled": true
   },
   "outputs": [],
   "source": [
    "param_values[0:5,:]"
   ]
  },
  {
   "cell_type": "code",
   "execution_count": null,
   "metadata": {},
   "outputs": [],
   "source": [
    "def converter(x): return ''.join(str(e) for e in 6*list(' '+ str(x)))\n",
    "print(''.join(str(e) for e in 6*list(' '+ str(6.77))))\n",
    "    \n",
    "converter(4.5)\n",
    "y=''.join(str(e) for e in 6*list(' '+ str(5.4)))\n",
    "print(y)"
   ]
  },
  {
   "cell_type": "markdown",
   "metadata": {},
   "source": [
    "### Start the sensitivity analysis"
   ]
  },
  {
   "cell_type": "code",
   "execution_count": 91,
   "metadata": {},
   "outputs": [
    {
     "name": "stdout",
     "output_type": "stream",
     "text": [
      "25\n"
     ]
    }
   ],
   "source": [
    "print(random.randint(2,101))"
   ]
  },
  {
   "cell_type": "code",
   "execution_count": null,
   "metadata": {},
   "outputs": [],
   "source": [
    "set_cmd='set Sumo__Plant__GranularSBR__Sumo2__'\n",
    "par_names=problem['names']\n",
    "command=''\n",
    "for j in range(len(par_names)):\n",
    "        command +=set_cmd + par_names[j] + ' '+ str(param_values[i,j]) + '; \\n'\n",
    "\n",
    "print(command)"
   ]
  },
  {
   "cell_type": "code",
   "execution_count": 5,
   "metadata": {
    "scrolled": true
   },
   "outputs": [
    {
     "ename": "NameError",
     "evalue": "name 'stop_t' is not defined",
     "output_type": "error",
     "traceback": [
      "\u001b[1;31m---------------------------------------------------------------------------\u001b[0m",
      "\u001b[1;31mNameError\u001b[0m                                 Traceback (most recent call last)",
      "\u001b[1;32m<timed exec>\u001b[0m in \u001b[0;36m<module>\u001b[1;34m()\u001b[0m\n",
      "\u001b[1;31mNameError\u001b[0m: name 'stop_t' is not defined"
     ]
    }
   ],
   "source": [
    "%%time\n",
    "# Let's store all the sensitivity analysis results in one data structure.\n",
    "\n",
    "from collections import OrderedDict\n",
    "snhx_sensitivity_data = OrderedDict()\n",
    "sno2_sensitivity_data = OrderedDict()\n",
    "sno3_sensitivity_data = OrderedDict()\n",
    "\n",
    "t_out=int(stop_t/dataComm)\n",
    "interation=param_values.shape[0]\n",
    "set_cmd='set Sumo__Plant__GranularSBR__Sumo2__'\n",
    "param_names=problem['names']\n",
    "\n",
    "for i in range(10):\n",
    "    command=''\n",
    "    for j in range(len(param_names)):\n",
    "        k=random.randint(0,719)\n",
    "        command +=set_cmd + par_names[j] + ' '+ str(param_values[k,j]) + '; \\n'   \n",
    "    \n",
    "    sumo.core.csumo_command_send(sumo.handle, command.encode('utf8'))\n",
    "    \n",
    "    print ('Iteration ', i)\n",
    "    # Do not forget to empty our lists before a simulation, otherwise\n",
    "    # new simulation results would just be appended.\n",
    "    t = []\n",
    "    snhx=[[] for i in range(6)]\n",
    "    sno2=[[] for i in range(6)]\n",
    "    sno3=[[] for i in range(6)]\n",
    "    \n",
    "    # Let's have Sumo do some work\n",
    "    sumo.run_model()\n",
    "    # The run_model is an asynchronous call, so we need to wait until\n",
    "    # the current run is finished, otherwise we would mess up our simulations\n",
    "    while not sumo.simulation_finished:\n",
    "        time.sleep(0.01)\n",
    "\n",
    "    # Good, we got our data in the list, let's store 'em in our dictionary, using \n",
    "    # KNHx as the label\n",
    "    \n",
    "    snhx_sensitivity_data[k] = snhx[:t_out]\n",
    "    sno2_sensitivity_data[k] = sno2[:t_out]\n",
    "    sno3_sensitivity_data[k] = sno3[:t_out]"
   ]
  },
  {
   "cell_type": "code",
   "execution_count": null,
   "metadata": {},
   "outputs": [],
   "source": [
    "print(command)"
   ]
  },
  {
   "cell_type": "code",
   "execution_count": null,
   "metadata": {},
   "outputs": [],
   "source": [
    "import csv\n",
    "with open('sens_output.csv', 'wb') as csv_file:\n",
    "    writer = csv.writer(csv_file)\n",
    "    for key, value in snhx_sensitivity_data.items():\n",
    "        writer.writerow([key, value])"
   ]
  },
  {
   "cell_type": "code",
   "execution_count": 100,
   "metadata": {
    "scrolled": false
   },
   "outputs": [
    {
     "name": "stdout",
     "output_type": "stream",
     "text": [
      "snhx array dim  3\n",
      "sno2 array dim  3\n",
      "sno3 array dim  3\n",
      "snhx array shape  (300, 6, 121)\n",
      "sno2 array shape  (300, 6, 121)\n"
     ]
    }
   ],
   "source": [
    "#Put the dictionary into a numpy array\n",
    "from tempfile import TemporaryFile\n",
    "snhx_sens = TemporaryFile()\n",
    "sno2_sens = TemporaryFile()\n",
    "sno3_sens = TemporaryFile()\n",
    "\n",
    "snhx_sens_list=list(snhx_sensitivity_data.values())\n",
    "sno2_sens_list=list(sno2_sensitivity_data.values())\n",
    "sno3_sens_list=list(sno3_sensitivity_data.values())\n",
    "#print(min(len(x) for x in sens_list))\n",
    "snhx_sens_array=np.array(snhx_sens_list)\n",
    "sno2_sens_array=np.array(sno2_sens_list)\n",
    "sno3_sens_array=np.array(sno3_sens_list)\n",
    "\n",
    "print (\"snhx array dim \", snhx_sens_array.ndim)\n",
    "print (\"sno2 array dim \", sno2_sens_array.ndim)\n",
    "print (\"sno3 array dim \", sno3_sens_array.ndim)\n",
    "print (\"snhx array shape \", snhx_sens_array.shape)\n",
    "print (\"sno2 array shape \", snhx_sens_array.shape)\n",
    "\n",
    "np.save(snhx_sens, snhx_sens_array)\n",
    "np.save(sno2_sens, sno2_sens_array)\n",
    "np.save(sno3_sens, sno3_sens_array)"
   ]
  },
  {
   "cell_type": "code",
   "execution_count": 4,
   "metadata": {},
   "outputs": [
    {
     "ename": "NameError",
     "evalue": "name 'snhx_sens_array' is not defined",
     "output_type": "error",
     "traceback": [
      "\u001b[1;31m---------------------------------------------------------------------------\u001b[0m",
      "\u001b[1;31mNameError\u001b[0m                                 Traceback (most recent call last)",
      "\u001b[1;32m<ipython-input-4-f0caf5198e51>\u001b[0m in \u001b[0;36m<module>\u001b[1;34m()\u001b[0m\n\u001b[1;32m----> 1\u001b[1;33m \u001b[0mnp\u001b[0m\u001b[1;33m.\u001b[0m\u001b[0msavetxt\u001b[0m\u001b[1;33m(\u001b[0m\u001b[1;34m\"snhx_sens.csv\"\u001b[0m\u001b[1;33m,\u001b[0m \u001b[0msnhx_sens_array\u001b[0m\u001b[1;33m,\u001b[0m \u001b[0mdelimiter\u001b[0m\u001b[1;33m=\u001b[0m\u001b[1;34m\",\"\u001b[0m\u001b[1;33m)\u001b[0m\u001b[1;33m\u001b[0m\u001b[0m\n\u001b[0m",
      "\u001b[1;31mNameError\u001b[0m: name 'snhx_sens_array' is not defined"
     ]
    }
   ],
   "source": [
    "np.savetxt(\"snhx_sens.csv\", snhx_sens_array, delimiter=\",\")"
   ]
  },
  {
   "cell_type": "code",
   "execution_count": null,
   "metadata": {},
   "outputs": [],
   "source": [
    "snhx_layer0=snhx_sens_array[:,0,:]\n",
    "print(snhx_layer0.shape)\n",
    "snhx_layer0df= pd.DataFrame(snhx_layer0.T)\n",
    "snhx_layer0df.head(20)"
   ]
  },
  {
   "cell_type": "code",
   "execution_count": null,
   "metadata": {
    "collapsed": true
   },
   "outputs": [],
   "source": [
    "### Plot the sensitivity modeling results"
   ]
  },
  {
   "cell_type": "code",
   "execution_count": null,
   "metadata": {
    "scrolled": true
   },
   "outputs": [],
   "source": [
    "fig,ax=plt.subplots(1,1)\n",
    "ax.set_xlabel('time')\n",
    "ax.set_ylabel('SNHx')\n",
    "titles=(\"Bulk\", \"Layer 1\", \"Layer 2\", \"Layer 3\", \"Layer 4\", \"Layer 5\")\n",
    "markers=('_','x','o','^')\n",
    "y_list=[]\n",
    "for k, v in snhx_sensitivity_data.items():\n",
    "    \n",
    "    ax.plot(t, v[0], label=str(k))\n",
    "    y_list.append(v[0])\n",
    "\n",
    "#plt.legend(loc='upper right', title='Legend')\n"
   ]
  },
  {
   "cell_type": "code",
   "execution_count": null,
   "metadata": {
    "collapsed": true,
    "scrolled": true
   },
   "outputs": [],
   "source": [
    "X=np.array(list(snhx_sensitivity_data.keys()))\n",
    "Y=np.array(y_list)\n",
    "corr=[]\n",
    "#np.corrcoef(X,Y[:,-1])\n",
    "for i in range(Y.shape[1]):\n",
    "    corr.append(stats.pearsonr(X,Y[:,i])[0])\n",
    "    \n"
   ]
  },
  {
   "cell_type": "code",
   "execution_count": 199,
   "metadata": {
    "collapsed": true
   },
   "outputs": [],
   "source": [
    "plt.plot(t, corr, 'ro')\n",
    "plt.show()"
   ]
  },
  {
   "cell_type": "code",
   "execution_count": 77,
   "metadata": {},
   "outputs": [
    {
     "name": "stdout",
     "output_type": "stream",
     "text": [
      "X size  (300, 2)\n",
      "299\n"
     ]
    }
   ],
   "source": [
    "Si=[]\n",
    "Si_list_dict=[]\n",
    "X=param_values\n",
    "print(\"X size \", X.shape)\n",
    "print(sens_array.shape[0]-1)\n",
    "Si_ndarray=np.empty([4,2,121])\n",
    "for i in range(sens_array.shape[2]-1):\n",
    "    Y=sens_array[:,0,i]\n",
    "    Si_out=mr.analyze(problem, X, Y, conf_level=0.95, print_to_console=False, num_levels=10, grid_jump=2)   \n",
    "    Si_list_dict.append(Si_out)\n",
    "    Si_list=list(Si_out.values())\n",
    "    Si_array=np.array(Si_list)\n",
    "    Si.append(Si_list)\n",
    "    Si_ndarray[:,:,i]=Si_array[1:,:,]\n",
    "    "
   ]
  },
  {
   "cell_type": "code",
   "execution_count": 83,
   "metadata": {},
   "outputs": [
    {
     "data": {
      "text/plain": [
       "dict_keys(['names', 'mu', 'mu_star', 'sigma', 'mu_star_conf'])"
      ]
     },
     "execution_count": 83,
     "metadata": {},
     "output_type": "execute_result"
    }
   ],
   "source": [
    "Si_out.keys()"
   ]
  },
  {
   "cell_type": "code",
   "execution_count": null,
   "metadata": {},
   "outputs": [],
   "source": [
    "plt.plot(t,Si_ndarray[1,0,:])\n",
    "plt.plot(t,Si_ndarray[1,1,:])"
   ]
  }
 ],
 "metadata": {
  "kernelspec": {
   "display_name": "Python 3",
   "language": "python",
   "name": "python3"
  },
  "language_info": {
   "codemirror_mode": {
    "name": "ipython",
    "version": 3
   },
   "file_extension": ".py",
   "mimetype": "text/x-python",
   "name": "python",
   "nbconvert_exporter": "python",
   "pygments_lexer": "ipython3",
   "version": "3.6.3"
  }
 },
 "nbformat": 4,
 "nbformat_minor": 2
}
