{
 "cells": [
  {
   "cell_type": "code",
   "execution_count": 1,
   "metadata": {
    "collapsed": true
   },
   "outputs": [],
   "source": [
    "from dynamita.sumo import *\n",
    "import numpy as np\n",
    "import time\n",
    "import matplotlib.pyplot as plt\n",
    "import pandas as pd\n",
    "from scipy.stats import stats   "
   ]
  },
  {
   "cell_type": "code",
   "execution_count": 2,
   "metadata": {
    "collapsed": true,
    "scrolled": true
   },
   "outputs": [],
   "source": [
    "from SALib.sample import morris\n",
    "from SALib.analyze import morris as mr\n",
    "import random"
   ]
  },
  {
   "cell_type": "code",
   "execution_count": 18,
   "metadata": {
    "collapsed": true
   },
   "outputs": [],
   "source": [
    "%matplotlib inline"
   ]
  },
  {
   "cell_type": "code",
   "execution_count": 4,
   "metadata": {
    "scrolled": true
   },
   "outputs": [
    {
     "name": "stdout",
     "output_type": "stream",
     "text": [
      "License OK...\n"
     ]
    }
   ],
   "source": [
    "sumo = Sumo(sumoPath=\"C:/Users/zeru/AppData/Local/Dynamita/Sumo16\", licenseFile=r\"networklicense.sumolic\")"
   ]
  },
  {
   "cell_type": "code",
   "execution_count": 5,
   "metadata": {
    "collapsed": true
   },
   "outputs": [],
   "source": [
    "def datacomm_callback(sumo):\n",
    "    t.append(sumo.core.csumo_var_get_time_double(sumo.handle))\n",
    "    #snhx.append(sumo.core.csumo_var_get_pvtarray_pos(sumo.handle, snhx_pos, 0))\n",
    "    for i in range(6):\n",
    "        snhx[i].append(sumo.core.csumo_var_get_pvtarray_pos(sumo.handle, snhx_pos, i))\n",
    "    return 0"
   ]
  },
  {
   "cell_type": "code",
   "execution_count": 6,
   "metadata": {},
   "outputs": [
    {
     "name": "stdout",
     "output_type": "stream",
     "text": [
      "No model is loaded\n",
      "Model successfuly loaded!\n"
     ]
    }
   ],
   "source": [
    "sumo.unload_model()\n",
    "if not sumo.load_model('myGSBR.sumo'):\n",
    "    print ('Model successfuly loaded!')"
   ]
  },
  {
   "cell_type": "code",
   "execution_count": 102,
   "metadata": {
    "collapsed": true
   },
   "outputs": [],
   "source": [
    "sumo.register_datacomm_callback(datacomm_callback)"
   ]
  },
  {
   "cell_type": "code",
   "execution_count": 103,
   "metadata": {
    "scrolled": true
   },
   "outputs": [
    {
     "data": {
      "text/plain": [
       "86"
      ]
     },
     "execution_count": 103,
     "metadata": {},
     "output_type": "execute_result"
    }
   ],
   "source": [
    "snhx_pos = sumo.core.csumo_model_get_variable_info_pos(sumo.handle, b'Sumo__Plant__GranularSBR__SNHx')\n",
    "sumo.core.csumo_command_send(sumo.handle, b'execute script_Initialize.scs;')\n",
    "snhx_pos"
   ]
  },
  {
   "cell_type": "code",
   "execution_count": 104,
   "metadata": {
    "scrolled": false
   },
   "outputs": [
    {
     "name": "stdout",
     "output_type": "stream",
     "text": [
      "Wall time: 11.1 s\n"
     ]
    }
   ],
   "source": [
    "%%time \n",
    "stop_t=6*3600*1000\n",
    "dataComm = 180000\n",
    "sumo.set_stopTime(stop_t)\n",
    "sumo.set_dataComm(dataComm)\n",
    "t = []\n",
    "snhx=[[] for i in range(6)]\n",
    "\n",
    "sumo.run_model()\n",
    "\n",
    "while not sumo.simulation_finished:\n",
    "        time.sleep(0.01)"
   ]
  },
  {
   "cell_type": "code",
   "execution_count": 101,
   "metadata": {
    "scrolled": false
   },
   "outputs": [
    {
     "name": "stdout",
     "output_type": "stream",
     "text": [
      "121\n"
     ]
    },
    {
     "data": {
      "text/plain": [
       "120.0"
      ]
     },
     "execution_count": 101,
     "metadata": {},
     "output_type": "execute_result"
    }
   ],
   "source": [
    "print(len(t))\n",
    "stop_t/dataComm"
   ]
  },
  {
   "cell_type": "code",
   "execution_count": 11,
   "metadata": {
    "collapsed": true
   },
   "outputs": [],
   "source": [
    "titles=[\"Bulk\", \"Layer 1\", \"Layer 2\", \"Layer 3\", \"Layer 4\", \"Layer 5\"]\n",
    "data_dict = dict(zip(titles,snhx))\n",
    "dframe = pd.DataFrame(data_dict, index=t)"
   ]
  },
  {
   "cell_type": "code",
   "execution_count": null,
   "metadata": {
    "scrolled": true
   },
   "outputs": [],
   "source": [
    "dframe.head(20)"
   ]
  },
  {
   "cell_type": "code",
   "execution_count": null,
   "metadata": {
    "collapsed": true,
    "scrolled": true
   },
   "outputs": [],
   "source": [
    "dframe.plot()"
   ]
  },
  {
   "cell_type": "code",
   "execution_count": 152,
   "metadata": {
    "scrolled": true
   },
   "outputs": [
    {
     "ename": "ValueError",
     "evalue": "operands could not be broadcast together with shapes (90,2) (21,) (90,2) ",
     "output_type": "error",
     "traceback": [
      "\u001b[1;31m---------------------------------------------------------------------------\u001b[0m",
      "\u001b[1;31mValueError\u001b[0m                                Traceback (most recent call last)",
      "\u001b[1;32m<timed exec>\u001b[0m in \u001b[0;36m<module>\u001b[1;34m()\u001b[0m\n",
      "\u001b[1;32m~\\Anaconda3\\lib\\site-packages\\SALib\\sample\\morris\\__init__.py\u001b[0m in \u001b[0;36msample\u001b[1;34m(problem, N, num_levels, grid_jump, optimal_trajectories, local_optimization)\u001b[0m\n\u001b[0;32m    103\u001b[0m                                                  local_optimization)\n\u001b[0;32m    104\u001b[0m \u001b[1;33m\u001b[0m\u001b[0m\n\u001b[1;32m--> 105\u001b[1;33m     \u001b[0mscale_samples\u001b[0m\u001b[1;33m(\u001b[0m\u001b[0msample\u001b[0m\u001b[1;33m,\u001b[0m \u001b[0mproblem\u001b[0m\u001b[1;33m[\u001b[0m\u001b[1;34m'bounds'\u001b[0m\u001b[1;33m]\u001b[0m\u001b[1;33m)\u001b[0m\u001b[1;33m\u001b[0m\u001b[0m\n\u001b[0m\u001b[0;32m    106\u001b[0m     \u001b[1;32mreturn\u001b[0m \u001b[0msample\u001b[0m\u001b[1;33m\u001b[0m\u001b[0m\n\u001b[0;32m    107\u001b[0m \u001b[1;33m\u001b[0m\u001b[0m\n",
      "\u001b[1;32m~\\Anaconda3\\lib\\site-packages\\SALib\\util\\__init__.py\u001b[0m in \u001b[0;36mscale_samples\u001b[1;34m(params, bounds)\u001b[0m\n\u001b[0;32m     37\u001b[0m     np.add(np.multiply(params,\n\u001b[0;32m     38\u001b[0m                        \u001b[1;33m(\u001b[0m\u001b[0mupper_bounds\u001b[0m \u001b[1;33m-\u001b[0m \u001b[0mlower_bounds\u001b[0m\u001b[1;33m)\u001b[0m\u001b[1;33m,\u001b[0m\u001b[1;33m\u001b[0m\u001b[0m\n\u001b[1;32m---> 39\u001b[1;33m                        out=params),\n\u001b[0m\u001b[0;32m     40\u001b[0m            \u001b[0mlower_bounds\u001b[0m\u001b[1;33m,\u001b[0m\u001b[1;33m\u001b[0m\u001b[0m\n\u001b[0;32m     41\u001b[0m            out=params)\n",
      "\u001b[1;31mValueError\u001b[0m: operands could not be broadcast together with shapes (90,2) (21,) (90,2) "
     ]
    }
   ],
   "source": [
    "%%time\n",
    "# Start Sensitivity analysis\n",
    "# Define the model inputs\n",
    "problem = {\n",
    "    'num_vars': 2,\n",
    "    'names': ['KO2_AOB', 'KNHx_AOB', 'mue_AOB', 'b_AOB', 'Y_AOB', 'KO2_NOB', 'KNO2_NOB', 'mue_NOB', 'b_NOB', 'Y_NOB', 'KNHx_ANX', 'KNO2_ANX', 'mue_ANX', 'b_ANX', 'Y_ANX', 'KO2_OHO', 'KNO2_OHO','KNO3_OHO', 'mue_OHO', 'b_OHO', 'Y_OHO'],\n",
    "    'bounds': [[0.1, 3], [0.1, 5], [0.2, 2], [0.01, 0.5], [0.03, 0.3], [0.1, 6], [0.1, 8], [0.1, 5], [0.1, 5], [0.03, 0.3], [0.1, 3], [0.1, 2], [0.01, 0.5], [0.001, 0.05], [0.03, 0.3], [0.05, 0.5], [0.1, 1], [0.1, 1], [0.1, 8], [0.01, 0.5], [0.1, 0.99]]\n",
    "}\n",
    "\n",
    "# Generate samples\n",
    "param_values = morris.sample(problem, 30, num_levels=10, grid_jump=4) #optimal_trajectories= 60)\n",
    "\n",
    "# Si = morris.analyze(problem, X, Y, conf_level=0.95, print_to_console=True, num_levels=4, grid_jump=2)"
   ]
  },
  {
   "cell_type": "code",
   "execution_count": 148,
   "metadata": {},
   "outputs": [
    {
     "data": {
      "text/plain": [
       "<matplotlib.collections.PathCollection at 0x23568f10>"
      ]
     },
     "execution_count": 148,
     "metadata": {},
     "output_type": "execute_result"
    },
    {
     "data": {
      "image/png": "[encoded data removed]",
      "text/plain": [
       "<matplotlib.figure.Figure at 0x22883030>"
      ]
     },
     "metadata": {},
     "output_type": "display_data"
    }
   ],
   "source": [
    "plt.scatter(param_values[:,0],param_values[:,1])"
   ]
  },
  {
   "cell_type": "code",
   "execution_count": 147,
   "metadata": {},
   "outputs": [
    {
     "data": {
      "text/plain": [
       "(90, 2)"
      ]
     },
     "execution_count": 147,
     "metadata": {},
     "output_type": "execute_result"
    }
   ],
   "source": [
    "param_values.shape"
   ]
  },
  {
   "cell_type": "code",
   "execution_count": 144,
   "metadata": {},
   "outputs": [
    {
     "data": {
      "text/plain": [
       "Text(0.5,1,'KNHx_AOB')"
      ]
     },
     "execution_count": 144,
     "metadata": {},
     "output_type": "execute_result"
    },
    {
     "data": {
      "image/png": "[encoded data removed]",
      "text/plain": [
       "<matplotlib.figure.Figure at 0x227fc1f0>"
      ]
     },
     "metadata": {},
     "output_type": "display_data"
    }
   ],
   "source": [
    "#selected_p=random.sample(param_values[:, 0].tolist(),3)\n",
    "plt.figure(figsize=(12,4))\n",
    "\n",
    "plt.subplot(121)\n",
    "plt.hist(param_values[:,0], histtype='stepfilled', alpha=0.7, bins=10)\n",
    "plt.title(problem['names'][0])\n",
    "\n",
    "plt.subplot(122)\n",
    "plt.hist(param_values[:,1], histtype='stepfilled', alpha=0.7, bins=10)\n",
    "plt.title(problem['names'][1])"
   ]
  },
  {
   "cell_type": "code",
   "execution_count": 59,
   "metadata": {
    "scrolled": true
   },
   "outputs": [
    {
     "data": {
      "text/plain": [
       "array([[ 1.36111111,  3.89111111],\n",
       "       [ 1.36111111,  2.78222222],\n",
       "       [ 0.70555556,  2.78222222],\n",
       "       [ 1.68888889,  2.78222222],\n",
       "       [ 2.34444444,  2.78222222]])"
      ]
     },
     "execution_count": 59,
     "metadata": {},
     "output_type": "execute_result"
    }
   ],
   "source": [
    "param_values[0:5,:]"
   ]
  },
  {
   "cell_type": "code",
   "execution_count": null,
   "metadata": {
    "scrolled": true
   },
   "outputs": [],
   "source": [
    "%%time\n",
    "# Let's store all the sensitivity analysis results in one data structure.\n",
    "\n",
    "from collections import OrderedDict\n",
    "snhx_sensitivity_data = OrderedDict()\n",
    "\n",
    "# So we are going to change the ammonia half-saturation coefficient. \n",
    "# For now we just create a list of our desired values manually. \n",
    "# If required, Python provides tools to create the required values programmatically - see e.g. the range or linspace methods.\n",
    "t_out=int(stop_t/dataComm)\n",
    "\n",
    "for i in range(param_values.shape[0]):\n",
    "    command = 'set Sumo__Plant__Sumo2__KO2_AOB_AS ' + str(param_values[i,0]) + ';'+ \\\n",
    "                'set Sumo__Plant__Sumo2__KNHx_AOB_AS ' + str(param_values[i,1]) + ';'\n",
    "    sumo.core.csumo_command_send(sumo.handle, command.encode('utf8'))\n",
    "    \n",
    "    #if i > 180 :\n",
    "    #   break\n",
    "    \n",
    "    print ('Iteration ', i)\n",
    "    # Do not forget to empty our lists before a simulation, otherwise\n",
    "    # new simulation results would just be appended.\n",
    "    t = []\n",
    "    snhx=[[] for i in range(6)]\n",
    "    \n",
    "    # Let's have Sumo do some work\n",
    "    sumo.run_model()\n",
    "    # The run_model is an asynchronous call, so we need to wait until\n",
    "    # the current run is finished, otherwise we would mess up our simulations\n",
    "    while not sumo.simulation_finished:\n",
    "        time.sleep(0.01)\n",
    "\n",
    "    # Good, we got our data in the list, let's store 'em in our dictionary, using \n",
    "    # KNHx as the label\n",
    "    \n",
    "    snhx_sensitivity_data[i] = snhx[:t_out]"
   ]
  },
  {
   "cell_type": "code",
   "execution_count": null,
   "metadata": {
    "collapsed": true
   },
   "outputs": [],
   "source": [
    "param_values[:5,:]"
   ]
  },
  {
   "cell_type": "code",
   "execution_count": 55,
   "metadata": {},
   "outputs": [
    {
     "data": {
      "text/plain": [
       "4"
      ]
     },
     "execution_count": 55,
     "metadata": {},
     "output_type": "execute_result"
    }
   ],
   "source": [
    "my_list=[[1,2,5,5],[3,4,6,5],[5,7,8,9,9]]\n",
    "min(len(x)  for x in my_list)"
   ]
  },
  {
   "cell_type": "code",
   "execution_count": 61,
   "metadata": {
    "scrolled": false
   },
   "outputs": [
    {
     "name": "stdout",
     "output_type": "stream",
     "text": [
      "6\n",
      "array dim  3\n",
      "array shape  (300, 6, 121)\n"
     ]
    }
   ],
   "source": [
    "#key=str(selected_p[0])\n",
    "sens_list=list(snhx_sensitivity_data.values())\n",
    "print(min(len(x) for x in sens_list))\n",
    "sens_array=np.array(sens_list)\n",
    "#print (snhx_sensitivity_data.keys())\n",
    "#print(selected_p)\n",
    "print (\"array dim \", sens_array.ndim)\n",
    "print (\"array shape \", sens_array.shape)\n",
    "#plt.plot(t, sens_array[:,0,:].T)\n",
    "#plt.legend(loc=\"bottom middle\")"
   ]
  },
  {
   "cell_type": "code",
   "execution_count": null,
   "metadata": {
    "collapsed": true,
    "scrolled": false
   },
   "outputs": [],
   "source": [
    "fig,ax=plt.subplots(1,1)\n",
    "ax.set_xlabel('time')\n",
    "ax.set_ylabel('SNHx')\n",
    "titles=(\"Bulk\", \"Layer 1\", \"Layer 2\", \"Layer 3\", \"Layer 4\", \"Layer 5\")\n",
    "markers=('_','x','o','^')\n",
    "y_list=[]\n",
    "for k, v in snhx_sensitivity_data.items():\n",
    "    \n",
    "    ax.plot(t, v[0], label=str(k))\n",
    "    y_list.append(v[0])\n",
    "    #plt.show()\n",
    "    #fig.canvas.draw()\n",
    "\n",
    "plt.legend(loc='upper right', title='Legend')\n"
   ]
  },
  {
   "cell_type": "code",
   "execution_count": null,
   "metadata": {
    "collapsed": true,
    "scrolled": true
   },
   "outputs": [],
   "source": [
    "X=np.array(list(snhx_sensitivity_data.keys()))\n",
    "Y=np.array(y_list)\n",
    "corr=[]\n",
    "#np.corrcoef(X,Y[:,-1])\n",
    "for i in range(Y.shape[1]):\n",
    "    corr.append(stats.pearsonr(X,Y[:,i])[0])\n",
    "    \n"
   ]
  },
  {
   "cell_type": "code",
   "execution_count": 199,
   "metadata": {
    "collapsed": true
   },
   "outputs": [],
   "source": [
    "plt.plot(t, corr, 'ro')\n",
    "plt.show()"
   ]
  },
  {
   "cell_type": "code",
   "execution_count": 77,
   "metadata": {},
   "outputs": [
    {
     "name": "stdout",
     "output_type": "stream",
     "text": [
      "X size  (300, 2)\n",
      "299\n"
     ]
    }
   ],
   "source": [
    "Si=[]\n",
    "Si_list_dict=[]\n",
    "X=param_values\n",
    "print(\"X size \", X.shape)\n",
    "print(sens_array.shape[0]-1)\n",
    "Si_ndarray=np.empty([4,2,121])\n",
    "for i in range(sens_array.shape[2]-1):\n",
    "    Y=sens_array[:,0,i]\n",
    "    Si_out=mr.analyze(problem, X, Y, conf_level=0.95, print_to_console=False, num_levels=10, grid_jump=2)   \n",
    "    Si_list_dict.append(Si_out)\n",
    "    Si_list=list(Si_out.values())\n",
    "    Si_array=np.array(Si_list)\n",
    "    Si.append(Si_list)\n",
    "    Si_ndarray[:,:,i]=Si_array[1:,:,]\n",
    "    "
   ]
  },
  {
   "cell_type": "code",
   "execution_count": 83,
   "metadata": {},
   "outputs": [
    {
     "data": {
      "text/plain": [
       "dict_keys(['names', 'mu', 'mu_star', 'sigma', 'mu_star_conf'])"
      ]
     },
     "execution_count": 83,
     "metadata": {},
     "output_type": "execute_result"
    }
   ],
   "source": [
    "Si_out.keys()"
   ]
  },
  {
   "cell_type": "code",
   "execution_count": 98,
   "metadata": {},
   "outputs": [
    {
     "data": {
      "text/plain": [
       "[<matplotlib.lines.Line2D at 0x1ced1ff0>]"
      ]
     },
     "execution_count": 98,
     "metadata": {},
     "output_type": "execute_result"
    },
    {
     "data": {
      "image/png": "[encoded data removed]",
      "text/plain": [
       "<matplotlib.figure.Figure at 0x1cd48ff0>"
      ]
     },
     "metadata": {},
     "output_type": "display_data"
    }
   ],
   "source": [
    "plt.plot(t,Si_ndarray[1,0,:])\n",
    "plt.plot(t,Si_ndarray[1,1,:])"
   ]
  }
 ],
 "metadata": {
  "kernelspec": {
   "display_name": "Python 3",
   "language": "python",
   "name": "python3"
  },
  "language_info": {
   "codemirror_mode": {
    "name": "ipython",
    "version": 3
   },
   "file_extension": ".py",
   "mimetype": "text/x-python",
   "name": "python",
   "nbconvert_exporter": "python",
   "pygments_lexer": "ipython3",
   "version": "3.6.3"
  }
 },
 "nbformat": 4,
 "nbformat_minor": 2
}
