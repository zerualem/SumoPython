{
 "cells": [
  {
   "cell_type": "code",
   "execution_count": 1,
   "metadata": {
    "collapsed": true
   },
   "outputs": [],
   "source": [
    "import pandas as pd"
   ]
  },
  {
   "cell_type": "code",
   "execution_count": 2,
   "metadata": {
    "collapsed": true
   },
   "outputs": [],
   "source": [
    "movies=pd.read_csv(\"http://bit.ly/imdbratings\")"
   ]
  },
  {
   "cell_type": "markdown",
   "metadata": {},
   "source": [
    "### Trying to see the head section of the data"
   ]
  },
  {
   "cell_type": "code",
   "execution_count": 3,
   "metadata": {},
   "outputs": [
    {
     "data": {
      "text/html": [
       "<div>\n",
       "<style>\n",
       "    .dataframe thead tr:only-child th {\n",
       "        text-align: right;\n",
       "    }\n",
       "\n",
       "    .dataframe thead th {\n",
       "        text-align: left;\n",
       "    }\n",
       "\n",
       "    .dataframe tbody tr th {\n",
       "        vertical-align: top;\n",
       "    }\n",
       "</style>\n",
       "<table border=\"1\" class=\"dataframe\">\n",
       "  <thead>\n",
       "    <tr style=\"text-align: right;\">\n",
       "      <th></th>\n",
       "      <th>star_rating</th>\n",
       "      <th>title</th>\n",
       "      <th>content_rating</th>\n",
       "      <th>genre</th>\n",
       "      <th>duration</th>\n",
       "      <th>actors_list</th>\n",
       "    </tr>\n",
       "  </thead>\n",
       "  <tbody>\n",
       "    <tr>\n",
       "      <th>0</th>\n",
       "      <td>9.3</td>\n",
       "      <td>The Shawshank Redemption</td>\n",
       "      <td>R</td>\n",
       "      <td>Crime</td>\n",
       "      <td>142</td>\n",
       "      <td>[u'Tim Robbins', u'Morgan Freeman', u'Bob Gunt...</td>\n",
       "    </tr>\n",
       "    <tr>\n",
       "      <th>1</th>\n",
       "      <td>9.2</td>\n",
       "      <td>The Godfather</td>\n",
       "      <td>R</td>\n",
       "      <td>Crime</td>\n",
       "      <td>175</td>\n",
       "      <td>[u'Marlon Brando', u'Al Pacino', u'James Caan']</td>\n",
       "    </tr>\n",
       "    <tr>\n",
       "      <th>2</th>\n",
       "      <td>9.1</td>\n",
       "      <td>The Godfather: Part II</td>\n",
       "      <td>R</td>\n",
       "      <td>Crime</td>\n",
       "      <td>200</td>\n",
       "      <td>[u'Al Pacino', u'Robert De Niro', u'Robert Duv...</td>\n",
       "    </tr>\n",
       "    <tr>\n",
       "      <th>3</th>\n",
       "      <td>9.0</td>\n",
       "      <td>The Dark Knight</td>\n",
       "      <td>PG-13</td>\n",
       "      <td>Action</td>\n",
       "      <td>152</td>\n",
       "      <td>[u'Christian Bale', u'Heath Ledger', u'Aaron E...</td>\n",
       "    </tr>\n",
       "    <tr>\n",
       "      <th>4</th>\n",
       "      <td>8.9</td>\n",
       "      <td>Pulp Fiction</td>\n",
       "      <td>R</td>\n",
       "      <td>Crime</td>\n",
       "      <td>154</td>\n",
       "      <td>[u'John Travolta', u'Uma Thurman', u'Samuel L....</td>\n",
       "    </tr>\n",
       "  </tbody>\n",
       "</table>\n",
       "</div>"
      ],
      "text/plain": [
       "   star_rating                     title content_rating   genre  duration  \\\n",
       "0          9.3  The Shawshank Redemption              R   Crime       142   \n",
       "1          9.2             The Godfather              R   Crime       175   \n",
       "2          9.1    The Godfather: Part II              R   Crime       200   \n",
       "3          9.0           The Dark Knight          PG-13  Action       152   \n",
       "4          8.9              Pulp Fiction              R   Crime       154   \n",
       "\n",
       "                                         actors_list  \n",
       "0  [u'Tim Robbins', u'Morgan Freeman', u'Bob Gunt...  \n",
       "1    [u'Marlon Brando', u'Al Pacino', u'James Caan']  \n",
       "2  [u'Al Pacino', u'Robert De Niro', u'Robert Duv...  \n",
       "3  [u'Christian Bale', u'Heath Ledger', u'Aaron E...  \n",
       "4  [u'John Travolta', u'Uma Thurman', u'Samuel L....  "
      ]
     },
     "execution_count": 3,
     "metadata": {},
     "output_type": "execute_result"
    }
   ],
   "source": [
    "movies.head()"
   ]
  },
  {
   "cell_type": "code",
   "execution_count": 4,
   "metadata": {},
   "outputs": [
    {
     "data": {
      "text/plain": [
       "542                   (500) Days of Summer\n",
       "5                             12 Angry Men\n",
       "201                       12 Years a Slave\n",
       "698                              127 Hours\n",
       "110                  2001: A Space Odyssey\n",
       "910                                   2046\n",
       "596                               21 Grams\n",
       "624                              25th Hour\n",
       "708                       28 Days Later...\n",
       "60                                3 Idiots\n",
       "225                                 3-Iron\n",
       "570                                    300\n",
       "555                           3:10 to Yuma\n",
       "427           4 Months, 3 Weeks and 2 Days\n",
       "824                                     42\n",
       "597                                  50/50\n",
       "203                                  8 1/2\n",
       "170                       A Beautiful Mind\n",
       "941                       A Bridge Too Far\n",
       "571                           A Bronx Tale\n",
       "266                      A Christmas Story\n",
       "86                      A Clockwork Orange\n",
       "716                         A Few Good Men\n",
       "750                    A Fish Called Wanda\n",
       "276                   A Fistful of Dollars\n",
       "612                     A Hard Day's Night\n",
       "883                  A History of Violence\n",
       "869              A Nightmare on Elm Street\n",
       "865                        A Perfect World\n",
       "426                              A Prophet\n",
       "                      ...                 \n",
       "207       What Ever Happened to Baby Jane?\n",
       "562            What's Eating Gilbert Grape\n",
       "719                When Harry Met Sally...\n",
       "649                      Where Eagles Dare\n",
       "33                                Whiplash\n",
       "669                Who Framed Roger Rabbit\n",
       "219        Who's Afraid of Virginia Woolf?\n",
       "127                      Wild Strawberries\n",
       "497    Willy Wonka & the Chocolate Factory\n",
       "270                        Wings of Desire\n",
       "483                           Withnail & I\n",
       "920                                Witness\n",
       "65             Witness for the Prosecution\n",
       "970                            Wonder Boys\n",
       "518                         Wreck-It Ralph\n",
       "954                                  X-Men\n",
       "248             X-Men: Days of Future Past\n",
       "532                     X-Men: First Class\n",
       "871                                     X2\n",
       "695                      Y Tu Mama Tambien\n",
       "403                             Ying xiong\n",
       "235                                Yip Man\n",
       "96                                 Yojimbo\n",
       "280                     Young Frankenstein\n",
       "535                                  Zelig\n",
       "955                       Zero Dark Thirty\n",
       "677                                 Zodiac\n",
       "615                             Zombieland\n",
       "526                                   Zulu\n",
       "864                                  [Rec]\n",
       "Name: title, Length: 979, dtype: object"
      ]
     },
     "execution_count": 4,
     "metadata": {},
     "output_type": "execute_result"
    }
   ],
   "source": [
    "movies.title.sort_values()"
   ]
  }
 ],
 "metadata": {
  "kernelspec": {
   "display_name": "Python 3",
   "language": "python",
   "name": "python3"
  },
  "language_info": {
   "codemirror_mode": {
    "name": "ipython",
    "version": 3
   },
   "file_extension": ".py",
   "mimetype": "text/x-python",
   "name": "python",
   "nbconvert_exporter": "python",
   "pygments_lexer": "ipython3",
   "version": "3.6.3"
  }
 },
 "nbformat": 4,
 "nbformat_minor": 2
}
